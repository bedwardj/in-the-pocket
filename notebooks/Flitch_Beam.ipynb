{
  "nbformat": 4,
  "nbformat_minor": 0,
  "metadata": {
    "colab": {
      "name": "Flitch Beam.ipynb",
      "provenance": [],
      "collapsed_sections": [],
      "authorship_tag": "ABX9TyMxoYSHbQRCRVVBjkrHzTN6",
      "include_colab_link": true
    },
    "kernelspec": {
      "name": "python3",
      "display_name": "Python 3"
    }
  },
  "cells": [
    {
      "cell_type": "markdown",
      "metadata": {
        "id": "view-in-github",
        "colab_type": "text"
      },
      "source": [
        "<a href=\"https://colab.research.google.com/github/bedwardj/in-the-pocket/blob/master/notebooks/Flitch_Beam.ipynb\" target=\"_parent\"><img src=\"https://colab.research.google.com/assets/colab-badge.svg\" alt=\"Open In Colab\"/></a>"
      ]
    },
    {
      "cell_type": "markdown",
      "metadata": {
        "id": "YsZPtrh92lkq",
        "colab_type": "text"
      },
      "source": [
        "# Flitch Beam"
      ]
    },
    {
      "cell_type": "markdown",
      "metadata": {
        "id": "zmos3EEx20v0",
        "colab_type": "text"
      },
      "source": [
        "**Example**:\n",
        "\n",
        "Determine the total uniform load, w, that can be carried by a flitch beam used to carry LL and DL for a floor. The flitch plate is composed of 2-2x10's No.1 Douglas fir-larch. The span is 20 ft and the steel plate is A36, 114\" x 9\"."
      ]
    },
    {
      "cell_type": "markdown",
      "metadata": {
        "id": "Bhl5l6kW3MMv",
        "colab_type": "text"
      },
      "source": [
        "## Givens"
      ]
    },
    {
      "cell_type": "code",
      "metadata": {
        "id": "A4o5ZLdq2hxj",
        "colab_type": "code",
        "outputId": "3a75cec4-3bf1-4836-fc11-eb9fd2f86fa6",
        "colab": {
          "base_uri": "https://localhost:8080/",
          "height": 34
        }
      },
      "source": [
        "# Material Properties\n",
        "# Wood\n",
        "F_b = 1500 # psi\n",
        "E_t = 1800000 # psi\n",
        "\n",
        "# Steel\n",
        "F_y = 36000 # psi\n",
        "F_s = 0.6 * F_y # psi\n",
        "E_s = 29000000 # psi\n",
        "\n",
        "# Modular long-term wood creep reduction factor\n",
        "# D + (W or S)  -> 1.0\n",
        "# D + L         -> 0.75\n",
        "# D             -> 0.67\n",
        "red_lt_factor = 0.75\n",
        "\n",
        "# Modular ratio\n",
        "n = E_s / (red_lt_factor * E_t)\n",
        "\n",
        "# Section Properties\n",
        "# Wood\n",
        "b = 1.5 # in\n",
        "d = 9.25 # in\n",
        "\n",
        "# Steel\n",
        "t = 0.25 # in\n",
        "h = 9 # in\n",
        "\n",
        "# Construction\n",
        "n_w = 2 # plies\n",
        "n_s = 1 # plies\n",
        "\n",
        "L = 20.0 # ft\n",
        "\n",
        "# Load Duration Factor\n",
        "C_D = 1.0 # D + L\n",
        "\n",
        "print(f\"n = {n}\")"
      ],
      "execution_count": 0,
      "outputs": [
        {
          "output_type": "stream",
          "text": [
            "n = 21.48148148148148\n"
          ],
          "name": "stdout"
        }
      ]
    },
    {
      "cell_type": "markdown",
      "metadata": {
        "id": "DW3gsTtp3w4y",
        "colab_type": "text"
      },
      "source": [
        "## Step 1: Find I"
      ]
    },
    {
      "cell_type": "code",
      "metadata": {
        "id": "hnhEh0rq2oeZ",
        "colab_type": "code",
        "outputId": "a4a5f4bc-5951-46c2-94ca-5c54570c3c1f",
        "colab": {
          "base_uri": "https://localhost:8080/",
          "height": 68
        }
      },
      "source": [
        "I_w = n_w * b * d ** 3 / 12 # in^4\n",
        "I_s = n_s * t * h ** 3 / 12 # in^4\n",
        "\n",
        "I_f = I_w + n * I_s\n",
        "\n",
        "print(f\"I_w = {I_w} in^4\")\n",
        "print(f\"I_s = {I_s} in^4\")\n",
        "print(f\"I_f = {I_f} in^4\")"
      ],
      "execution_count": 0,
      "outputs": [
        {
          "output_type": "stream",
          "text": [
            "I_w = 197.86328125 in^4\n",
            "I_s = 15.1875 in^4\n",
            "I_f = 524.11328125 in^4\n"
          ],
          "name": "stdout"
        }
      ]
    },
    {
      "cell_type": "markdown",
      "metadata": {
        "id": "zD7qdVip6SOr",
        "colab_type": "text"
      },
      "source": [
        "## Step 2: Find Mall"
      ]
    },
    {
      "cell_type": "code",
      "metadata": {
        "id": "XmVc1gSB5FhX",
        "colab_type": "code",
        "outputId": "6353c647-df82-45a1-9946-a21c5dfe754c",
        "colab": {
          "base_uri": "https://localhost:8080/",
          "height": 51
        }
      },
      "source": [
        "# Assuming wood controls\n",
        "M_all_w = C_D * F_b * I_f / (d / 2) # lb-in\n",
        "\n",
        "# Assuming steel controls\n",
        "M_all_s = (F_s / n) * I_f / (h / 2) # lb-in\n",
        "\n",
        "print(f\"M_all_w = {M_all_w} lb-in = {M_all_w / 12} lb-ft\")\n",
        "print(f\"M_all_s = {M_all_s} lb-in = {M_all_s / 12} lb-ft\")"
      ],
      "execution_count": 0,
      "outputs": [
        {
          "output_type": "stream",
          "text": [
            "M_all_w = 169982.6858108108 lb-in = 14165.223817567567 lb-ft\n",
            "M_all_s = 117112.20905172413 lb-in = 9759.350754310344 lb-ft\n"
          ],
          "name": "stdout"
        }
      ]
    },
    {
      "cell_type": "markdown",
      "metadata": {
        "id": "EFoBG1AX7_ON",
        "colab_type": "text"
      },
      "source": [
        "## Step 3: Find allowable load due to moment"
      ]
    },
    {
      "cell_type": "code",
      "metadata": {
        "id": "s6Je77HC7Xr2",
        "colab_type": "code",
        "outputId": "c40aeea5-c5d3-4f4c-ae8a-7f78f14cad99",
        "colab": {
          "base_uri": "https://localhost:8080/",
          "height": 51
        }
      },
      "source": [
        "# Controlling moment\n",
        "M_all = min(M_all_w, M_all_s) # lb-in\n",
        "\n",
        "w_all_b = 8 * (M_all / 12) / L ** 2 # plf\n",
        "\n",
        "print(f\"M_all = {M_all} lb-in =  {M_all / 12} lb-ft\")\n",
        "print(f\"w_all_b = {w_all_b} plf\")"
      ],
      "execution_count": 0,
      "outputs": [
        {
          "output_type": "stream",
          "text": [
            "M_all = 117112.20905172413 lb-in =  9759.350754310344 lb-ft\n",
            "w_all_b = 195.18701508620688 plf\n"
          ],
          "name": "stdout"
        }
      ]
    },
    {
      "cell_type": "markdown",
      "metadata": {
        "id": "9umVVl329DL5",
        "colab_type": "text"
      },
      "source": [
        "## Step 4: Find allowable load due to shear"
      ]
    },
    {
      "cell_type": "code",
      "metadata": {
        "id": "Oeo_d6R08-gW",
        "colab_type": "code",
        "outputId": "526380e9-26fe-4f39-d95a-9b0555a6ee21",
        "colab": {
          "base_uri": "https://localhost:8080/",
          "height": 68
        }
      },
      "source": [
        "# Assume steel carries all shear\n",
        "F_v = 0.4 * F_y # psi\n",
        "\n",
        "V_all = 2 * t * h * F_v / 3 # lb\n",
        "\n",
        "w_all_v = 2 * V_all / L # plf\n",
        "\n",
        "print(f\"F_v = {F_v} psi\")\n",
        "print(f\"V_all = {V_all} lb\")\n",
        "print(f\"w_all_v = {w_all_v} plf\")"
      ],
      "execution_count": 0,
      "outputs": [
        {
          "output_type": "stream",
          "text": [
            "F_v = 14400.0 psi\n",
            "V_all = 21600.0 lb\n",
            "w_all_v = 2160.0 plf\n"
          ],
          "name": "stdout"
        }
      ]
    },
    {
      "cell_type": "markdown",
      "metadata": {
        "id": "nI6w-SxV-YG5",
        "colab_type": "text"
      },
      "source": [
        "## Allowable uniform load"
      ]
    },
    {
      "cell_type": "code",
      "metadata": {
        "id": "kAsWvyIV-Szd",
        "colab_type": "code",
        "outputId": "1900df43-2997-483d-c937-aa9a60bc5d4c",
        "colab": {
          "base_uri": "https://localhost:8080/",
          "height": 34
        }
      },
      "source": [
        "# Controlling allowable uniform line load\n",
        "w_all = min(w_all_b, w_all_v) # plf\n",
        "\n",
        "print(f\"w_all = {w_all} plf\")"
      ],
      "execution_count": 0,
      "outputs": [
        {
          "output_type": "stream",
          "text": [
            "w_all = 195.18701508620688 plf\n"
          ],
          "name": "stdout"
        }
      ]
    }
  ]
}