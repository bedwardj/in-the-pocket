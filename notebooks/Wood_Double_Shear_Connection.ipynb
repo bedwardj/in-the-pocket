{
  "nbformat": 4,
  "nbformat_minor": 0,
  "metadata": {
    "kernelspec": {
      "display_name": "Python 3",
      "language": "python",
      "name": "python3"
    },
    "language_info": {
      "codemirror_mode": {
        "name": "ipython",
        "version": 3
      },
      "file_extension": ".py",
      "mimetype": "text/x-python",
      "name": "python",
      "nbconvert_exporter": "python",
      "pygments_lexer": "ipython3",
      "version": "3.6.5"
    },
    "colab": {
      "name": "Wood Double Shear Connection.ipynb",
      "provenance": [],
      "include_colab_link": true
    }
  },
  "cells": [
    {
      "cell_type": "markdown",
      "metadata": {
        "id": "view-in-github",
        "colab_type": "text"
      },
      "source": [
        "<a href=\"https://colab.research.google.com/github/bedwardj/in-the-pocket/blob/master/notebooks/Wood_Double_Shear_Connection.ipynb\" target=\"_parent\"><img src=\"https://colab.research.google.com/assets/colab-badge.svg\" alt=\"Open In Colab\"/></a>"
      ]
    },
    {
      "cell_type": "markdown",
      "metadata": {
        "id": "Waqcjsob3rJd",
        "colab_type": "text"
      },
      "source": [
        "# Bolted Wood Connection\n",
        "## Double Shear"
      ]
    },
    {
      "cell_type": "code",
      "metadata": {
        "id": "FTrhrWA83rJl",
        "colab_type": "code",
        "colab": {}
      },
      "source": [
        "from math import sqrt"
      ],
      "execution_count": 0,
      "outputs": []
    },
    {
      "cell_type": "markdown",
      "metadata": {
        "id": "LHCz76nl3rJy",
        "colab_type": "text"
      },
      "source": [
        "### Bolt Properties"
      ]
    },
    {
      "cell_type": "code",
      "metadata": {
        "id": "0dZF9lVz3rJ1",
        "colab_type": "code",
        "colab": {}
      },
      "source": [
        "# Bolt diameter, in\n",
        "D = 0.625\n",
        "\n",
        "# Number of bolts\n",
        "n = 2\n",
        "\n",
        "# Bolt spacing, in\n",
        "s = 3\n",
        "\n",
        "# Bolt yield strength, psi\n",
        "F_yb = 45000\n",
        "\n",
        "# Maximum angle of load to grain, deg\n",
        "theta_max = 0"
      ],
      "execution_count": 0,
      "outputs": []
    },
    {
      "cell_type": "markdown",
      "metadata": {
        "id": "3SR6JzIq3rKA",
        "colab_type": "text"
      },
      "source": [
        "### Main Member Properties"
      ]
    },
    {
      "cell_type": "code",
      "metadata": {
        "id": "p9YciSiR3rKD",
        "colab_type": "code",
        "outputId": "02b1ec80-e935-4139-d6ad-cb33c2446d57",
        "colab": {
          "base_uri": "https://localhost:8080/",
          "height": 34
        }
      },
      "source": [
        "# Thickness / dowel bearing length, in\n",
        "l_m = 0.25\n",
        "\n",
        "# Width / dowel bearing width, in\n",
        "d_m = 3\n",
        "\n",
        "# Gross area, in^2\n",
        "A_m = l_m * d_m\n",
        "\n",
        "# Dowel bearing strength, psi\n",
        "F_em = 87000\n",
        "\n",
        "# Modulus of elasticity, ksi\n",
        "E_m = 29000\n",
        "\n",
        "print(f\"A_m = {A_m} in^2\")"
      ],
      "execution_count": 0,
      "outputs": [
        {
          "output_type": "stream",
          "text": [
            "A_m = 0.75 in^2\n"
          ],
          "name": "stdout"
        }
      ]
    },
    {
      "cell_type": "markdown",
      "metadata": {
        "id": "2ub-5Qjn3rKV",
        "colab_type": "text"
      },
      "source": [
        "### Side Member Properties"
      ]
    },
    {
      "cell_type": "code",
      "metadata": {
        "id": "heef_8hw3rKY",
        "colab_type": "code",
        "outputId": "c0fccf4e-aed3-453f-e359-2c1e3428aadc",
        "colab": {
          "base_uri": "https://localhost:8080/",
          "height": 34
        }
      },
      "source": [
        "# Thickness / dowel bearing length, in\n",
        "l_s = 1.5\n",
        "\n",
        "# Width / dowel bearing width, in\n",
        "d_s = 3.5\n",
        "\n",
        "# Gross area, in^2\n",
        "A_s = 2 * l_s * d_s\n",
        "\n",
        "# Dowel bearing strength, psi\n",
        "F_es = 6150\n",
        "\n",
        "# Modulus of elasticity, ksi\n",
        "E_s = 1400\n",
        "\n",
        "print(f\"A_s = {A_s} in^2\")"
      ],
      "execution_count": 0,
      "outputs": [
        {
          "output_type": "stream",
          "text": [
            "A_s = 10.5 in^2\n"
          ],
          "name": "stdout"
        }
      ]
    },
    {
      "cell_type": "markdown",
      "metadata": {
        "id": "TxklyfGo3rKj",
        "colab_type": "text"
      },
      "source": [
        "### Connection Analysis"
      ]
    },
    {
      "cell_type": "code",
      "metadata": {
        "id": "RU3IL1Aa3rKn",
        "colab_type": "code",
        "outputId": "c392c6fe-1a45-4f94-c3ae-518a7d33c673",
        "colab": {
          "base_uri": "https://localhost:8080/",
          "height": 153
        }
      },
      "source": [
        "R_e = F_em / F_es\n",
        "print(f\"R_e = {R_e}\")\n",
        "\n",
        "k_theta = 1 + theta_max / 360\n",
        "print(f\"k_theta = {k_theta}\")\n",
        "\n",
        "k_3 = -1 + sqrt(2 * (1 + R_e) / R_e + 2 * F_yb * (2 + R_e) * D**2 / (3 * F_em * l_s**2))\n",
        "print(f\"k_3 = {k_3}\")\n",
        "\n",
        "# Limit state Im, lb / bolt\n",
        "I_m = D * l_m * F_em / (4 * k_theta)\n",
        "print(f\"I_m = {I_m} lb / bolt\")\n",
        "\n",
        "# Limit state Is, lb / bolt\n",
        "I_s = D * l_s * F_es / (2 * k_theta)\n",
        "print(f\"I_s = {I_s} lb / bolt\")\n",
        "\n",
        "# Limit state IIIs, lb / bolt\n",
        "III_s = k_3 * D * l_s * F_em / (1.6 * (2 + R_e) * k_theta)\n",
        "print(f\"III_s = {III_s} lb / bolt\")\n",
        "\n",
        "# Limit state IV, lb / bolt\n",
        "IV = (D**2 /  (1.6 * k_theta)) * sqrt(2 * F_em * F_yb / (3 * (1 + R_e)))\n",
        "print(f\"IV = {IV} lb / bolt\")\n",
        "\n",
        "# Shear capacity, lb / bolt\n",
        "Z = min(I_m, I_s, III_s, IV)\n",
        "print(f\"Z = {Z} lb / bolt\")"
      ],
      "execution_count": 0,
      "outputs": [
        {
          "output_type": "stream",
          "text": [
            "R_e = 14.146341463414634\n",
            "k_theta = 1.0\n",
            "k_3 = 0.7629505324727066\n",
            "I_m = 3398.4375 lb / bolt\n",
            "I_s = 2882.8125 lb / bolt\n",
            "III_s = 2408.7559148385667 lb / bolt\n",
            "IV = 3204.8406014747115 lb / bolt\n",
            "Z = 2408.7559148385667 lb / bolt\n"
          ],
          "name": "stdout"
        }
      ]
    },
    {
      "cell_type": "markdown",
      "metadata": {
        "id": "R1wCLAck3rK3",
        "colab_type": "text"
      },
      "source": [
        "### Adjustment Factors"
      ]
    },
    {
      "cell_type": "code",
      "metadata": {
        "id": "l91zzc2N3rK7",
        "colab_type": "code",
        "outputId": "da66b168-f60e-498d-f956-37aa5114f015",
        "colab": {
          "base_uri": "https://localhost:8080/",
          "height": 102
        }
      },
      "source": [
        "# Group Action Factor\n",
        "\n",
        "# Connection materials > w2s Wood-to-steel or w2w Wood-to-wood\n",
        "conx_type = \"w2s\"\n",
        "\n",
        "# Load/slip modulus, lb / in\n",
        "#g = IF(G4=\"W2W\",180000*POWER(D,1.5),270000*POWER(D,1.5))\n",
        "if conx_type == \"w2w\":\n",
        "    g = 180000 * D**1.5\n",
        "else:\n",
        "    g = 270000 * D**1.5\n",
        "\n",
        "print(f\"g = {g} lb / in\")\n",
        "\n",
        "u = 1 + g * (s / 2) * (1 / (E_m * A_m * 1000) + 1 / (E_s * A_s * 1000))\n",
        "print(f\"u = {u} ??\")\n",
        "\n",
        "m = u - sqrt(u**2 - 1)\n",
        "print(f\"m = {m} ??\")\n",
        "\n",
        "# R_EA = IF(Es*As/(Em*Am)<Em*Am/(Es*As),Es*As/(Em*Am),Em*Am/(Es*As))\n",
        "if E_s * A_s / (E_m * A_m) < E_m * A_m / (E_s * A_s):\n",
        "    R_EA = E_s * A_s / (E_m * A_m)\n",
        "else:\n",
        "    R_EA = E_m * A_m / (E_s * A_s)\n",
        "\n",
        "print(f\"R_EA = {R_EA} ??\")\n",
        "\n",
        "C_g = (m * (1 - m**(2*n)) / (n * ((1 + R_EA * m**n) * (1 + m) - 1 + m**(2*n)))) * ((1 + R_EA) / (1 - m))\n",
        "print(f\"C_g = {C_g}\")\n",
        "\n",
        "# Load Duration Factor\n",
        "C_D = 1.25\n",
        "\n",
        "# Wet Service Factor\n",
        "C_M = 1.0\n",
        "\n",
        "# Temperature Factor\n",
        "C_t = 1.0\n",
        "\n",
        "# Geometry Factor\n",
        "C_delta = 1.0"
      ],
      "execution_count": 0,
      "outputs": [
        {
          "output_type": "stream",
          "text": [
            "g = 133408.5887883535 lb / in\n",
            "u = 1.0228137136351654 ??\n",
            "m = 0.8079931075468336 ??\n",
            "R_EA = 0.6758620689655173 ??\n",
            "C_g = 0.9957044234350053\n"
          ],
          "name": "stdout"
        }
      ]
    },
    {
      "cell_type": "markdown",
      "metadata": {
        "id": "s_bEFH1s3rLJ",
        "colab_type": "text"
      },
      "source": [
        "### Adjusted Shear Capacity"
      ]
    },
    {
      "cell_type": "code",
      "metadata": {
        "id": "5zIkBMz43rLM",
        "colab_type": "code",
        "outputId": "4b7036bd-68e8-4341-8004-00871a00a3d1",
        "colab": {
          "base_uri": "https://localhost:8080/",
          "height": 51
        }
      },
      "source": [
        "Z_prime = Z * C_D * C_M * C_t * C_g * C_delta\n",
        "print(f\"Z' = {Z_prime} lb / bolt\")\n",
        "\n",
        "# Total shear capacity, lb\n",
        "Z_total = n * Z_prime\n",
        "print(f\"Total Z' = {Z_total} lb\")"
      ],
      "execution_count": 0,
      "outputs": [
        {
          "output_type": "stream",
          "text": [
            "Z' = 2998.011149224992 lb / bolt\n",
            "Total Z' = 5996.022298449984 lb\n"
          ],
          "name": "stdout"
        }
      ]
    },
    {
      "cell_type": "code",
      "metadata": {
        "id": "S1wI-WT83rLZ",
        "colab_type": "code",
        "colab": {}
      },
      "source": [
        ""
      ],
      "execution_count": 0,
      "outputs": []
    }
  ]
}